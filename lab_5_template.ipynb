{
 "cells": [
  {
   "cell_type": "markdown",
   "id": "55bbcb23",
   "metadata": {},
   "source": [
    "# Lab 5: LHC Particle Physics Data Analysis\n",
    "\n",
    "**Author:** [YOUR NAME]\n",
    "\n",
    "**Course:** Physics 434 - Data Analysis Lab  \n",
    "**Objective:** Explore LHC particle physics data and optimize discovery significance through event selection\n",
    "\n",
    "In this lab, you will work with realistic particle physics data from the Large Hadron Collider (LHC). The goal is to identify Higgs boson signals from QCD background noise using jet substructure analysis and cut-based optimization."
   ]
  },
  {
   "cell_type": "markdown",
   "id": "2444f4cf",
   "metadata": {},
   "source": [
    "## Dataset Information\n",
    "\n",
    "Two pT (transverse momentum) ranges are provided:\n",
    "\n",
    "### Low pT (250-500 GeV/c): `Sample_pt_250_500`\n",
    "- **Training samples:**\n",
    "  - `higgs_100000_pt_250_500.pkl` (Expected yields: N_higgs = 100)\n",
    "  - `qcd_100000_pt_250_500.pkl` (Expected yields: N_qcd = 20,000)\n",
    "- **Pseudo-experiments:**\n",
    "  - `data_highLumi_pt_250_500.h5`\n",
    "  - `data_lowLumi_pt_250_500.h5`\n",
    "\n",
    "### High pT (1000-1200 GeV/c): `Sample_pt_1000_1200`\n",
    "- **Training samples:**\n",
    "  - `higgs_100000_pt_1000_1200.pkl` (Expected yields: N_higgs = 50)\n",
    "  - `qcd_100000_pt_1000_1200.pkl` (Expected yields: N_qcd = 2,000)\n",
    "- **Pseudo-experiments:**\n",
    "  - `data_highLumi_pt_1000_1200.h5`\n",
    "  - `data_lowLumi_pt_1000_1200.h5`"
   ]
  },
  {
   "cell_type": "markdown",
   "id": "d9b37dcf",
   "metadata": {},
   "source": [
    "## Physics Background\n",
    "\n",
    "### What is a Jet?\n",
    "A jet is a collection of particles traveling in the same direction, originating from a hard quark or gluon through bremsstrahlung and fragmentation processes.\n",
    "\n",
    "### Jet Substructure\n",
    "At high transverse momenta, heavy particles (W, Z, Higgs, top quarks) have collimated decays. Standard jet identification fails because all decay products end up in a single jet. **Jet substructure variables** computed from constituent 4-momenta help distinguish boosted heavy particles with two-pronged decays from QCD jets.\n",
    "\n",
    "### Key Variables:\n",
    "- **mass**: Jet invariant mass (GeV)\n",
    "- **d2**: Jet substructure variable for two-pronged discrimination\n",
    "- **η (eta)**: Pseudorapidity (geometric quantity related to polar angle)\n",
    "- **φ (phi)**: Azimuthal angle around the beam\n",
    "\n",
    "**Extended Reading:** \n",
    "- ATLAS detector: https://arxiv.org/pdf/1709.04533.pdf\n",
    "- Jet substructure: https://arxiv.org/abs/1201.0008"
   ]
  },
  {
   "cell_type": "markdown",
   "id": "86f10b39",
   "metadata": {},
   "source": [
    "## Setup and Data Loading"
   ]
  },
  {
   "cell_type": "code",
   "execution_count": null,
   "id": "24a58fec",
   "metadata": {},
   "outputs": [],
   "source": [
    "# TODO: Import required libraries\n",
    "# import pickle\n",
    "# import numpy as np\n",
    "# import matplotlib.pyplot as plt\n",
    "# import pandas as pd"
   ]
  },
  {
   "cell_type": "code",
   "execution_count": null,
   "id": "926c4402",
   "metadata": {},
   "outputs": [],
   "source": [
    "# TODO: Load the QCD background data\n",
    "# Use pickle to load: Sample_pt_250_500/qcd_100000_pt_250_500.pkl\n"
   ]
  },
  {
   "cell_type": "code",
   "execution_count": null,
   "id": "3a63e570",
   "metadata": {},
   "outputs": [],
   "source": [
    "# TODO: Load the Higgs signal data\n",
    "# Use pickle to load: Sample_pt_250_500/higgs_100000_pt_250_500.pkl\n"
   ]
  },
  {
   "cell_type": "code",
   "execution_count": null,
   "id": "77236854",
   "metadata": {},
   "outputs": [],
   "source": [
    "# TODO: Explore the data structure\n",
    "# Print the keys available in the data dictionary\n",
    "# Print the first few values of 'mass' and 'd2'"
   ]
  },
  {
   "cell_type": "markdown",
   "id": "8f771d62",
   "metadata": {},
   "source": [
    "# Task 1: Visualization (3 points)\n",
    "\n",
    "Explore the low pT dataset (`Sample_pt_250_500`). Make representative plots of each feature to understand the data structure and characteristics."
   ]
  },
  {
   "cell_type": "markdown",
   "id": "0e8dc831",
   "metadata": {},
   "source": [
    "## Part (a): Individual Feature Distributions\n",
    "\n",
    "Create histograms for each available feature in both signal and background datasets."
   ]
  },
  {
   "cell_type": "code",
   "execution_count": null,
   "id": "547608d3",
   "metadata": {},
   "outputs": [],
   "source": [
    "# TODO: Plot mass distributions for signal and background\n",
    "# Create overlaid histograms with proper labels and legends"
   ]
  },
  {
   "cell_type": "code",
   "execution_count": null,
   "id": "28347d0e",
   "metadata": {},
   "outputs": [],
   "source": [
    "# TODO: Plot d2 distributions for signal and background"
   ]
  },
  {
   "cell_type": "code",
   "execution_count": null,
   "id": "d0c446a7",
   "metadata": {},
   "outputs": [],
   "source": [
    "# TODO: Plot other available features (pt, eta, phi, etc.)\n",
    "# Create a multi-panel figure showing all features"
   ]
  },
  {
   "cell_type": "markdown",
   "id": "0e40993a",
   "metadata": {},
   "source": [
    "## Part (b): Summary Statistics\n",
    "\n",
    "Calculate and display basic statistics for key features."
   ]
  },
  {
   "cell_type": "code",
   "execution_count": null,
   "id": "643f0bb0",
   "metadata": {},
   "outputs": [],
   "source": [
    "# TODO: Calculate mean, std, min, max for mass and d2"
   ]
  },
  {
   "cell_type": "markdown",
   "id": "02ee0626",
   "metadata": {},
   "source": [
    "# Task 2: Data Exploration (3 points)\n",
    "\n",
    "Study correlations between mass and d2 jet substructure variable to build a cut-based analysis."
   ]
  },
  {
   "cell_type": "markdown",
   "id": "1569231b",
   "metadata": {},
   "source": [
    "## Part (a): Distribution Comparison and 2D Scatter Plots\n",
    "\n",
    "Create mass and d2 distributions, and 2D scatter plots for signal (```'Higgs Signal'```) and background (```'QCD Background'```)."
   ]
  },
  {
   "cell_type": "code",
   "execution_count": null,
   "id": "fae89589",
   "metadata": {},
   "outputs": [],
   "source": [
    "# TODO: Create two plots showing mass distributions (signal vs background)\n",
    "# Describe the shape and discrimination power"
   ]
  },
  {
   "cell_type": "code",
   "execution_count": null,
   "id": "3f544e24",
   "metadata": {},
   "outputs": [],
   "source": [
    "# TODO: Create two plots showing d2 distributions (signal vs background)\n",
    "# Describe the shape and discrimination power"
   ]
  },
  {
   "cell_type": "code",
   "execution_count": null,
   "id": "48424d19",
   "metadata": {},
   "outputs": [],
   "source": [
    "# TODO: Create 2D scatter plot of mass vs d2 for signal"
   ]
  },
  {
   "cell_type": "code",
   "execution_count": null,
   "id": "f5deabc8",
   "metadata": {},
   "outputs": [],
   "source": [
    "# TODO: Create 2D scatter plot of mass vs d2 for background"
   ]
  },
  {
   "cell_type": "markdown",
   "id": "bf7ada6a",
   "metadata": {},
   "source": [
    "**Question:** Describe the discrimination power of mass and d2 for separating signal from background.\n",
    "\n",
    "**Your Answer:**"
   ]
  },
  {
   "cell_type": "markdown",
   "id": "3aff846a",
   "metadata": {},
   "source": [
    "## Part (b): Weighted Distributions\n",
    "\n",
    "Re-weight signal (N_signal = 100) and background (N_background = 20,000) to match expected yields."
   ]
  },
  {
   "cell_type": "code",
   "execution_count": null,
   "id": "a523a619",
   "metadata": {},
   "outputs": [],
   "source": [
    "# TODO: Calculate weights for signal and background\n",
    "# N_signal_expected = 100, N_background_expected = 20000\n"
   ]
  },
  {
   "cell_type": "code",
   "execution_count": null,
   "id": "953f895f",
   "metadata": {},
   "outputs": [],
   "source": [
    "# TODO: Create weighted histograms with signal stacked on background for mass\n",
    "# Use plt.hist with weights parameter and stacked=True"
   ]
  },
  {
   "cell_type": "code",
   "execution_count": null,
   "id": "263ff701",
   "metadata": {},
   "outputs": [],
   "source": [
    "# TODO: Create weighted histograms with signal stacked on background for mass and d2"
   ]
  },
  {
   "cell_type": "markdown",
   "id": "cfb5fec0",
   "metadata": {},
   "source": [
    "**Question:** Describe the visibility of observing the signal over the background.\n",
    "\n",
    "**Your Answer:**"
   ]
  },
  {
   "cell_type": "markdown",
   "id": "39752dbb",
   "metadata": {},
   "source": [
    "## Part (c): Mass Window Selection\n",
    "\n",
    "Apply a mass cut of [120, 130] GeV to enhance signal visibility."
   ]
  },
  {
   "cell_type": "code",
   "execution_count": null,
   "id": "9239e97c",
   "metadata": {},
   "outputs": [],
   "source": [
    "# TODO: Apply mass cut [120, 130] GeV\n",
    "# Create boolean masks for signal and background\n"
   ]
  },
  {
   "cell_type": "code",
   "execution_count": null,
   "id": "346673bb",
   "metadata": {},
   "outputs": [],
   "source": [
    "# TODO: Plot weighted mass distributions after the cut\n",
    "# Does the mass distribution look as expected?"
   ]
  },
  {
   "cell_type": "code",
   "execution_count": null,
   "id": "352f4d7e",
   "metadata": {},
   "outputs": [],
   "source": [
    "# TODO: Plot weighted d2 distributions after the mass cut\n",
    "# How does this compare to d2 without any cuts?"
   ]
  },
  {
   "cell_type": "markdown",
   "id": "92105282",
   "metadata": {},
   "source": [
    "**Question:** How does the d2 plot after mass cut compare to the one without cuts?\n",
    "\n",
    "**Your Answer:**"
   ]
  },
  {
   "cell_type": "markdown",
   "id": "fe05e102",
   "metadata": {},
   "source": [
    "# Task 3: Significance Optimization (4 points)\n",
    "\n",
    "Scan over d2 values to find the optimal cut that maximizes discovery significance.\n",
    "\n",
    "**Significance Formula:** $\\text{Significance} = \\frac{N_{\\text{signal}}}{\\sqrt{N_{\\text{background}}}}$ (in units of σ)\n",
    "\n",
    "The goal is to reject as much background as possible while keeping signal to make it more significant."
   ]
  },
  {
   "cell_type": "markdown",
   "id": "b5b1f2f6",
   "metadata": {},
   "source": [
    "## Part (a): Understanding d2 Cuts\n",
    "\n",
    "Inspect the d2 distribution after mass cut to determine the appropriate cut direction."
   ]
  },
  {
   "cell_type": "markdown",
   "id": "d8ed2e39",
   "metadata": {},
   "source": [
    "**Questions to consider:**\n",
    "1. How does d2 distribution change after applying the mass cut?\n",
    "2. For a d2 cut value of 4, should you keep events below or above 4?\n",
    "3. What range should be used to scan d2 cut values?\n",
    "\n",
    "**Your Answers:**"
   ]
  },
  {
   "cell_type": "markdown",
   "id": "8023fbe0",
   "metadata": {},
   "source": [
    "## Part (b): d2 Cut Scan\n",
    "\n",
    "Scan d2 cut values and calculate significance for each cut."
   ]
  },
  {
   "cell_type": "code",
   "execution_count": null,
   "id": "2f5a1618",
   "metadata": {},
   "outputs": [],
   "source": [
    "# TODO: Define d2 scan range (e.g., 0 to 10 with fine steps)\n",
    "\n",
    "# TODO: For each d2 cut value:\n",
    "#   1. Count signal and background events passing both mass and d2 cuts\n",
    "#   2. Apply weights to get expected yields\n",
    "#   3. Calculate significance = N_signal / sqrt(N_background)\n"
   ]
  },
  {
   "cell_type": "code",
   "execution_count": null,
   "id": "033e2cb1",
   "metadata": {},
   "outputs": [],
   "source": [
    "# TODO: Plot significance vs d2 cut value\n",
    "# Mark the point where significance reaches 3σ"
   ]
  },
  {
   "cell_type": "markdown",
   "id": "2f88a390",
   "metadata": {},
   "source": [
    "## Part (c): Final Results with Optimal Cuts\n",
    "\n",
    "Apply both mass and optimal d2 cuts to visualize the final result."
   ]
  },
  {
   "cell_type": "code",
   "execution_count": null,
   "id": "572860fd",
   "metadata": {},
   "outputs": [],
   "source": [
    "# TODO: Identify optimal d2 cut value (e.g., for 3σ significance)\n",
    "\n",
    "# TODO: Apply both mass [120, 130] and optimal d2 cuts\n",
    "\n",
    "# TODO: Calculate final significance"
   ]
  },
  {
   "cell_type": "code",
   "execution_count": null,
   "id": "6cb73303",
   "metadata": {},
   "outputs": [],
   "source": [
    "# TODO: Plot final mass distribution with both cuts applied\n",
    "# Show signal stacked on background with optimal cuts"
   ]
  },
  {
   "cell_type": "markdown",
   "id": "8759eba5",
   "metadata": {},
   "source": [
    "**Question:** What do you observe in the final mass distribution? What is the final significance? How much improvement did you achieve?\n",
    "\n",
    "**Your Answer:**"
   ]
  },
  {
   "cell_type": "markdown",
   "id": "dac980db",
   "metadata": {},
   "source": [
    "# Bonus: High pT and Multi-Feature Optimization (3 points)\n",
    "\n",
    "Optimize discovery significance for high pT data (`Sample_pt_1000_1200`) using at least 3 features."
   ]
  },
  {
   "cell_type": "code",
   "execution_count": null,
   "id": "2362111f",
   "metadata": {},
   "outputs": [],
   "source": [
    "# TODO: Load high pT data"
   ]
  },
  {
   "cell_type": "code",
   "execution_count": null,
   "id": "b08ca3ec",
   "metadata": {},
   "outputs": [],
   "source": [
    "# TODO: Explore available features"
   ]
  },
  {
   "cell_type": "code",
   "execution_count": null,
   "id": "2a0f2411",
   "metadata": {},
   "outputs": [],
   "source": [
    "# TODO: Implement multi-feature optimization through for loops\n",
    "# Consider combinations of mass, d2, and other jet substructure variables\n",
    "\n",
    "# for ... :\n",
    "    # for ... :\n",
    "        # for ... :\n",
    "            # if significance > best_significance:\n",
    "            #     best_significance = significance\n",
    "            #     best_cuts = {'mass_cut': mass_cut, 'd2_cut': d2_cut, 't21_cut': t21_cut}"
   ]
  },
  {
   "cell_type": "code",
   "execution_count": null,
   "id": "23bf566c",
   "metadata": {},
   "outputs": [],
   "source": [
    "# TODO: Plot final mass distribution with optimal cuts applied\n",
    "# Show signal stacked on background with optimal cuts"
   ]
  }
 ],
 "metadata": {
  "language_info": {
   "name": "python"
  }
 },
 "nbformat": 4,
 "nbformat_minor": 5
}
